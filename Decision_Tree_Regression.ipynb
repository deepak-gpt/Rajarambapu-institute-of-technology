{
  "nbformat": 4,
  "nbformat_minor": 0,
  "metadata": {
    "colab": {
      "name": "Decision Tree Regression.ipynb",
      "provenance": [],
      "mount_file_id": "1LRchDIyRkZOic9w-I9mnAlJT-8gJNmk_",
      "authorship_tag": "ABX9TyODV8Sy8yRWpoSOLUz8ay+c",
      "include_colab_link": true
    },
    "kernelspec": {
      "name": "python3",
      "display_name": "Python 3"
    }
  },
  "cells": [
    {
      "cell_type": "markdown",
      "metadata": {
        "id": "view-in-github",
        "colab_type": "text"
      },
      "source": [
        "<a href=\"https://colab.research.google.com/github/deepak-gpt/Rajarambapu-institute-of-technology/blob/main/Decision_Tree_Regression.ipynb\" target=\"_parent\"><img src=\"https://colab.research.google.com/assets/colab-badge.svg\" alt=\"Open In Colab\"/></a>"
      ]
    },
    {
      "cell_type": "code",
      "metadata": {
        "id": "IDhhYIakP69n"
      },
      "source": [
        "# step 1: importing libraries\r\n",
        "import numpy as np\r\n",
        "import pandas as pd"
      ],
      "execution_count": 3,
      "outputs": []
    },
    {
      "cell_type": "code",
      "metadata": {
        "colab": {
          "base_uri": "https://localhost:8080/",
          "height": 204
        },
        "id": "FEhlwPbJTHXL",
        "outputId": "af60fe84-0a51-4045-ab74-fbd2281257e4"
      },
      "source": [
        "# step 2: import dataset from sklearn/google drive/local drive\r\n",
        "dataset=pd.read_csv('/content/drive/MyDrive/Colab Notebooks/Dataset/IceCreamData1.csv')\r\n",
        "dataset.head(5)"
      ],
      "execution_count": 11,
      "outputs": [
        {
          "output_type": "execute_result",
          "data": {
            "text/html": [
              "<div>\n",
              "<style scoped>\n",
              "    .dataframe tbody tr th:only-of-type {\n",
              "        vertical-align: middle;\n",
              "    }\n",
              "\n",
              "    .dataframe tbody tr th {\n",
              "        vertical-align: top;\n",
              "    }\n",
              "\n",
              "    .dataframe thead th {\n",
              "        text-align: right;\n",
              "    }\n",
              "</style>\n",
              "<table border=\"1\" class=\"dataframe\">\n",
              "  <thead>\n",
              "    <tr style=\"text-align: right;\">\n",
              "      <th></th>\n",
              "      <th>Temperature</th>\n",
              "      <th>Revenue</th>\n",
              "    </tr>\n",
              "  </thead>\n",
              "  <tbody>\n",
              "    <tr>\n",
              "      <th>0</th>\n",
              "      <td>25</td>\n",
              "      <td>535</td>\n",
              "    </tr>\n",
              "    <tr>\n",
              "      <th>1</th>\n",
              "      <td>26</td>\n",
              "      <td>625</td>\n",
              "    </tr>\n",
              "    <tr>\n",
              "      <th>2</th>\n",
              "      <td>28</td>\n",
              "      <td>661</td>\n",
              "    </tr>\n",
              "    <tr>\n",
              "      <th>3</th>\n",
              "      <td>21</td>\n",
              "      <td>488</td>\n",
              "    </tr>\n",
              "    <tr>\n",
              "      <th>4</th>\n",
              "      <td>12</td>\n",
              "      <td>316</td>\n",
              "    </tr>\n",
              "  </tbody>\n",
              "</table>\n",
              "</div>"
            ],
            "text/plain": [
              "   Temperature  Revenue\n",
              "0           25      535\n",
              "1           26      625\n",
              "2           28      661\n",
              "3           21      488\n",
              "4           12      316"
            ]
          },
          "metadata": {
            "tags": []
          },
          "execution_count": 11
        }
      ]
    },
    {
      "cell_type": "code",
      "metadata": {
        "id": "VwgTMGNTUKNY"
      },
      "source": [
        "# step 3: features/attributes selection for your model\r\n",
        "x=dataset['Temperature'].values\r\n",
        "y=dataset['Revenue'].values"
      ],
      "execution_count": 22,
      "outputs": []
    },
    {
      "cell_type": "code",
      "metadata": {
        "colab": {
          "base_uri": "https://localhost:8080/"
        },
        "id": "v4PfrDg9XXCr",
        "outputId": "dbdb3e07-2bda-4f5d-c54e-8f464fce0885"
      },
      "source": [
        "# step 4: data preprocessing\r\n",
        "print(x.shape)\r\n",
        "print(y.shape)"
      ],
      "execution_count": 47,
      "outputs": [
        {
          "output_type": "stream",
          "text": [
            "(500, 1)\n",
            "(500, 1)\n"
          ],
          "name": "stdout"
        },
        {
          "output_type": "execute_result",
          "data": {
            "text/plain": [
              "8.09985185049702"
            ]
          },
          "metadata": {
            "tags": []
          },
          "execution_count": 47
        }
      ]
    },
    {
      "cell_type": "code",
      "metadata": {
        "colab": {
          "base_uri": "https://localhost:8080/"
        },
        "id": "HRUL9jeIX5tw",
        "outputId": "bd757970-d57e-40b4-ff8f-08955fe6c8da"
      },
      "source": [
        "x=x.reshape(-1,1)\r\n",
        "y=y.reshape(-1,1)\r\n",
        "print(x.shape)\r\n",
        "print(y.shape)\r\n"
      ],
      "execution_count": 26,
      "outputs": [
        {
          "output_type": "stream",
          "text": [
            "(500, 1)\n",
            "(500, 1)\n"
          ],
          "name": "stdout"
        }
      ]
    },
    {
      "cell_type": "code",
      "metadata": {
        "id": "Xq2T0MYuUZqz"
      },
      "source": [
        "# step 5: training and testing data\r\n",
        "from sklearn.model_selection import train_test_split\r\n",
        "\r\n",
        "x_train,x_test,y_train,y_test=train_test_split(x,y,test_size=0.05)\r\n"
      ],
      "execution_count": 28,
      "outputs": []
    },
    {
      "cell_type": "code",
      "metadata": {
        "colab": {
          "base_uri": "https://localhost:8080/"
        },
        "id": "L4CMXmFFYbFi",
        "outputId": "a632c177-694c-4625-ba19-c81674aee483"
      },
      "source": [
        "# step 6: Building Model\r\n",
        "from sklearn.tree import DecisionTreeRegressor\r\n",
        "dcr=DecisionTreeRegressor()\r\n",
        "dcr.fit(x_train,y_train)\r\n"
      ],
      "execution_count": 37,
      "outputs": [
        {
          "output_type": "execute_result",
          "data": {
            "text/plain": [
              "DecisionTreeRegressor(ccp_alpha=0.0, criterion='mse', max_depth=None,\n",
              "                      max_features=None, max_leaf_nodes=None,\n",
              "                      min_impurity_decrease=0.0, min_impurity_split=None,\n",
              "                      min_samples_leaf=1, min_samples_split=2,\n",
              "                      min_weight_fraction_leaf=0.0, presort='deprecated',\n",
              "                      random_state=None, splitter='best')"
            ]
          },
          "metadata": {
            "tags": []
          },
          "execution_count": 37
        }
      ]
    },
    {
      "cell_type": "code",
      "metadata": {
        "colab": {
          "base_uri": "https://localhost:8080/"
        },
        "id": "CKTrWNa8coUv",
        "outputId": "e863dfbe-5379-4f8c-ab81-ac5800319172"
      },
      "source": [
        "# score of model\r\n",
        "dcr.score(x,y)"
      ],
      "execution_count": 38,
      "outputs": [
        {
          "output_type": "execute_result",
          "data": {
            "text/plain": [
              "0.9802510849215134"
            ]
          },
          "metadata": {
            "tags": []
          },
          "execution_count": 38
        }
      ]
    },
    {
      "cell_type": "code",
      "metadata": {
        "id": "0FNZTf8aZq7Q"
      },
      "source": [
        "# step 7: Prediction the values\r\n",
        "y_pre=dcr.predict(x_test)"
      ],
      "execution_count": 31,
      "outputs": []
    },
    {
      "cell_type": "code",
      "metadata": {
        "colab": {
          "base_uri": "https://localhost:8080/",
          "height": 824
        },
        "id": "it1f1jqsZ7g8",
        "outputId": "73246694-97f2-4e7a-d5cb-ed9fc465f732"
      },
      "source": [
        "# now check compare predicted and real values\r\n",
        "df=pd.DataFrame(y_pre.reshape(-1),y_test.reshape(-1))\r\n",
        "df"
      ],
      "execution_count": 35,
      "outputs": [
        {
          "output_type": "execute_result",
          "data": {
            "text/html": [
              "<div>\n",
              "<style scoped>\n",
              "    .dataframe tbody tr th:only-of-type {\n",
              "        vertical-align: middle;\n",
              "    }\n",
              "\n",
              "    .dataframe tbody tr th {\n",
              "        vertical-align: top;\n",
              "    }\n",
              "\n",
              "    .dataframe thead th {\n",
              "        text-align: right;\n",
              "    }\n",
              "</style>\n",
              "<table border=\"1\" class=\"dataframe\">\n",
              "  <thead>\n",
              "    <tr style=\"text-align: right;\">\n",
              "      <th></th>\n",
              "      <th>0</th>\n",
              "    </tr>\n",
              "  </thead>\n",
              "  <tbody>\n",
              "    <tr>\n",
              "      <th>443</th>\n",
              "      <td>453.133333</td>\n",
              "    </tr>\n",
              "    <tr>\n",
              "      <th>493</th>\n",
              "      <td>522.153846</td>\n",
              "    </tr>\n",
              "    <tr>\n",
              "      <th>635</th>\n",
              "      <td>622.526316</td>\n",
              "    </tr>\n",
              "    <tr>\n",
              "      <th>483</th>\n",
              "      <td>475.136364</td>\n",
              "    </tr>\n",
              "    <tr>\n",
              "      <th>905</th>\n",
              "      <td>913.750000</td>\n",
              "    </tr>\n",
              "    <tr>\n",
              "      <th>449</th>\n",
              "      <td>475.136364</td>\n",
              "    </tr>\n",
              "    <tr>\n",
              "      <th>409</th>\n",
              "      <td>383.250000</td>\n",
              "    </tr>\n",
              "    <tr>\n",
              "      <th>573</th>\n",
              "      <td>562.941176</td>\n",
              "    </tr>\n",
              "    <tr>\n",
              "      <th>499</th>\n",
              "      <td>496.777778</td>\n",
              "    </tr>\n",
              "    <tr>\n",
              "      <th>264</th>\n",
              "      <td>245.222222</td>\n",
              "    </tr>\n",
              "    <tr>\n",
              "      <th>538</th>\n",
              "      <td>581.937500</td>\n",
              "    </tr>\n",
              "    <tr>\n",
              "      <th>630</th>\n",
              "      <td>683.687500</td>\n",
              "    </tr>\n",
              "    <tr>\n",
              "      <th>597</th>\n",
              "      <td>562.941176</td>\n",
              "    </tr>\n",
              "    <tr>\n",
              "      <th>221</th>\n",
              "      <td>202.750000</td>\n",
              "    </tr>\n",
              "    <tr>\n",
              "      <th>899</th>\n",
              "      <td>913.750000</td>\n",
              "    </tr>\n",
              "    <tr>\n",
              "      <th>238</th>\n",
              "      <td>245.222222</td>\n",
              "    </tr>\n",
              "    <tr>\n",
              "      <th>500</th>\n",
              "      <td>522.153846</td>\n",
              "    </tr>\n",
              "    <tr>\n",
              "      <th>793</th>\n",
              "      <td>760.428571</td>\n",
              "    </tr>\n",
              "    <tr>\n",
              "      <th>332</th>\n",
              "      <td>314.222222</td>\n",
              "    </tr>\n",
              "    <tr>\n",
              "      <th>655</th>\n",
              "      <td>641.714286</td>\n",
              "    </tr>\n",
              "    <tr>\n",
              "      <th>798</th>\n",
              "      <td>776.250000</td>\n",
              "    </tr>\n",
              "    <tr>\n",
              "      <th>216</th>\n",
              "      <td>202.750000</td>\n",
              "    </tr>\n",
              "    <tr>\n",
              "      <th>437</th>\n",
              "      <td>453.133333</td>\n",
              "    </tr>\n",
              "    <tr>\n",
              "      <th>409</th>\n",
              "      <td>429.882353</td>\n",
              "    </tr>\n",
              "    <tr>\n",
              "      <th>375</th>\n",
              "      <td>349.666667</td>\n",
              "    </tr>\n",
              "  </tbody>\n",
              "</table>\n",
              "</div>"
            ],
            "text/plain": [
              "              0\n",
              "443  453.133333\n",
              "493  522.153846\n",
              "635  622.526316\n",
              "483  475.136364\n",
              "905  913.750000\n",
              "449  475.136364\n",
              "409  383.250000\n",
              "573  562.941176\n",
              "499  496.777778\n",
              "264  245.222222\n",
              "538  581.937500\n",
              "630  683.687500\n",
              "597  562.941176\n",
              "221  202.750000\n",
              "899  913.750000\n",
              "238  245.222222\n",
              "500  522.153846\n",
              "793  760.428571\n",
              "332  314.222222\n",
              "655  641.714286\n",
              "798  776.250000\n",
              "216  202.750000\n",
              "437  453.133333\n",
              "409  429.882353\n",
              "375  349.666667"
            ]
          },
          "metadata": {
            "tags": []
          },
          "execution_count": 35
        }
      ]
    },
    {
      "cell_type": "markdown",
      "metadata": {
        "id": "q0wFR86scSBT"
      },
      "source": [
        "# step 8 Data Visulization"
      ]
    },
    {
      "cell_type": "code",
      "metadata": {
        "colab": {
          "base_uri": "https://localhost:8080/"
        },
        "id": "T2UAHvK5alvb",
        "outputId": "798e1d7a-6d6e-45ac-93cf-7ae9ea87a008"
      },
      "source": [
        "import matplotlib.pyplot as plt\r\n",
        "x_grid=np.arange(min(x),max(x),0.1)\r\n",
        "x_grid=x_grid.reshape(-1,1)\r\n",
        "x_grid"
      ],
      "execution_count": 72,
      "outputs": [
        {
          "output_type": "execute_result",
          "data": {
            "text/plain": [
              "array([[ 0. ],\n",
              "       [ 0.1],\n",
              "       [ 0.2],\n",
              "       [ 0.3],\n",
              "       [ 0.4],\n",
              "       [ 0.5],\n",
              "       [ 0.6],\n",
              "       [ 0.7],\n",
              "       [ 0.8],\n",
              "       [ 0.9],\n",
              "       [ 1. ],\n",
              "       [ 1.1],\n",
              "       [ 1.2],\n",
              "       [ 1.3],\n",
              "       [ 1.4],\n",
              "       [ 1.5],\n",
              "       [ 1.6],\n",
              "       [ 1.7],\n",
              "       [ 1.8],\n",
              "       [ 1.9],\n",
              "       [ 2. ],\n",
              "       [ 2.1],\n",
              "       [ 2.2],\n",
              "       [ 2.3],\n",
              "       [ 2.4],\n",
              "       [ 2.5],\n",
              "       [ 2.6],\n",
              "       [ 2.7],\n",
              "       [ 2.8],\n",
              "       [ 2.9],\n",
              "       [ 3. ],\n",
              "       [ 3.1],\n",
              "       [ 3.2],\n",
              "       [ 3.3],\n",
              "       [ 3.4],\n",
              "       [ 3.5],\n",
              "       [ 3.6],\n",
              "       [ 3.7],\n",
              "       [ 3.8],\n",
              "       [ 3.9],\n",
              "       [ 4. ],\n",
              "       [ 4.1],\n",
              "       [ 4.2],\n",
              "       [ 4.3],\n",
              "       [ 4.4],\n",
              "       [ 4.5],\n",
              "       [ 4.6],\n",
              "       [ 4.7],\n",
              "       [ 4.8],\n",
              "       [ 4.9],\n",
              "       [ 5. ],\n",
              "       [ 5.1],\n",
              "       [ 5.2],\n",
              "       [ 5.3],\n",
              "       [ 5.4],\n",
              "       [ 5.5],\n",
              "       [ 5.6],\n",
              "       [ 5.7],\n",
              "       [ 5.8],\n",
              "       [ 5.9],\n",
              "       [ 6. ],\n",
              "       [ 6.1],\n",
              "       [ 6.2],\n",
              "       [ 6.3],\n",
              "       [ 6.4],\n",
              "       [ 6.5],\n",
              "       [ 6.6],\n",
              "       [ 6.7],\n",
              "       [ 6.8],\n",
              "       [ 6.9],\n",
              "       [ 7. ],\n",
              "       [ 7.1],\n",
              "       [ 7.2],\n",
              "       [ 7.3],\n",
              "       [ 7.4],\n",
              "       [ 7.5],\n",
              "       [ 7.6],\n",
              "       [ 7.7],\n",
              "       [ 7.8],\n",
              "       [ 7.9],\n",
              "       [ 8. ],\n",
              "       [ 8.1],\n",
              "       [ 8.2],\n",
              "       [ 8.3],\n",
              "       [ 8.4],\n",
              "       [ 8.5],\n",
              "       [ 8.6],\n",
              "       [ 8.7],\n",
              "       [ 8.8],\n",
              "       [ 8.9],\n",
              "       [ 9. ],\n",
              "       [ 9.1],\n",
              "       [ 9.2],\n",
              "       [ 9.3],\n",
              "       [ 9.4],\n",
              "       [ 9.5],\n",
              "       [ 9.6],\n",
              "       [ 9.7],\n",
              "       [ 9.8],\n",
              "       [ 9.9],\n",
              "       [10. ],\n",
              "       [10.1],\n",
              "       [10.2],\n",
              "       [10.3],\n",
              "       [10.4],\n",
              "       [10.5],\n",
              "       [10.6],\n",
              "       [10.7],\n",
              "       [10.8],\n",
              "       [10.9],\n",
              "       [11. ],\n",
              "       [11.1],\n",
              "       [11.2],\n",
              "       [11.3],\n",
              "       [11.4],\n",
              "       [11.5],\n",
              "       [11.6],\n",
              "       [11.7],\n",
              "       [11.8],\n",
              "       [11.9],\n",
              "       [12. ],\n",
              "       [12.1],\n",
              "       [12.2],\n",
              "       [12.3],\n",
              "       [12.4],\n",
              "       [12.5],\n",
              "       [12.6],\n",
              "       [12.7],\n",
              "       [12.8],\n",
              "       [12.9],\n",
              "       [13. ],\n",
              "       [13.1],\n",
              "       [13.2],\n",
              "       [13.3],\n",
              "       [13.4],\n",
              "       [13.5],\n",
              "       [13.6],\n",
              "       [13.7],\n",
              "       [13.8],\n",
              "       [13.9],\n",
              "       [14. ],\n",
              "       [14.1],\n",
              "       [14.2],\n",
              "       [14.3],\n",
              "       [14.4],\n",
              "       [14.5],\n",
              "       [14.6],\n",
              "       [14.7],\n",
              "       [14.8],\n",
              "       [14.9],\n",
              "       [15. ],\n",
              "       [15.1],\n",
              "       [15.2],\n",
              "       [15.3],\n",
              "       [15.4],\n",
              "       [15.5],\n",
              "       [15.6],\n",
              "       [15.7],\n",
              "       [15.8],\n",
              "       [15.9],\n",
              "       [16. ],\n",
              "       [16.1],\n",
              "       [16.2],\n",
              "       [16.3],\n",
              "       [16.4],\n",
              "       [16.5],\n",
              "       [16.6],\n",
              "       [16.7],\n",
              "       [16.8],\n",
              "       [16.9],\n",
              "       [17. ],\n",
              "       [17.1],\n",
              "       [17.2],\n",
              "       [17.3],\n",
              "       [17.4],\n",
              "       [17.5],\n",
              "       [17.6],\n",
              "       [17.7],\n",
              "       [17.8],\n",
              "       [17.9],\n",
              "       [18. ],\n",
              "       [18.1],\n",
              "       [18.2],\n",
              "       [18.3],\n",
              "       [18.4],\n",
              "       [18.5],\n",
              "       [18.6],\n",
              "       [18.7],\n",
              "       [18.8],\n",
              "       [18.9],\n",
              "       [19. ],\n",
              "       [19.1],\n",
              "       [19.2],\n",
              "       [19.3],\n",
              "       [19.4],\n",
              "       [19.5],\n",
              "       [19.6],\n",
              "       [19.7],\n",
              "       [19.8],\n",
              "       [19.9],\n",
              "       [20. ],\n",
              "       [20.1],\n",
              "       [20.2],\n",
              "       [20.3],\n",
              "       [20.4],\n",
              "       [20.5],\n",
              "       [20.6],\n",
              "       [20.7],\n",
              "       [20.8],\n",
              "       [20.9],\n",
              "       [21. ],\n",
              "       [21.1],\n",
              "       [21.2],\n",
              "       [21.3],\n",
              "       [21.4],\n",
              "       [21.5],\n",
              "       [21.6],\n",
              "       [21.7],\n",
              "       [21.8],\n",
              "       [21.9],\n",
              "       [22. ],\n",
              "       [22.1],\n",
              "       [22.2],\n",
              "       [22.3],\n",
              "       [22.4],\n",
              "       [22.5],\n",
              "       [22.6],\n",
              "       [22.7],\n",
              "       [22.8],\n",
              "       [22.9],\n",
              "       [23. ],\n",
              "       [23.1],\n",
              "       [23.2],\n",
              "       [23.3],\n",
              "       [23.4],\n",
              "       [23.5],\n",
              "       [23.6],\n",
              "       [23.7],\n",
              "       [23.8],\n",
              "       [23.9],\n",
              "       [24. ],\n",
              "       [24.1],\n",
              "       [24.2],\n",
              "       [24.3],\n",
              "       [24.4],\n",
              "       [24.5],\n",
              "       [24.6],\n",
              "       [24.7],\n",
              "       [24.8],\n",
              "       [24.9],\n",
              "       [25. ],\n",
              "       [25.1],\n",
              "       [25.2],\n",
              "       [25.3],\n",
              "       [25.4],\n",
              "       [25.5],\n",
              "       [25.6],\n",
              "       [25.7],\n",
              "       [25.8],\n",
              "       [25.9],\n",
              "       [26. ],\n",
              "       [26.1],\n",
              "       [26.2],\n",
              "       [26.3],\n",
              "       [26.4],\n",
              "       [26.5],\n",
              "       [26.6],\n",
              "       [26.7],\n",
              "       [26.8],\n",
              "       [26.9],\n",
              "       [27. ],\n",
              "       [27.1],\n",
              "       [27.2],\n",
              "       [27.3],\n",
              "       [27.4],\n",
              "       [27.5],\n",
              "       [27.6],\n",
              "       [27.7],\n",
              "       [27.8],\n",
              "       [27.9],\n",
              "       [28. ],\n",
              "       [28.1],\n",
              "       [28.2],\n",
              "       [28.3],\n",
              "       [28.4],\n",
              "       [28.5],\n",
              "       [28.6],\n",
              "       [28.7],\n",
              "       [28.8],\n",
              "       [28.9],\n",
              "       [29. ],\n",
              "       [29.1],\n",
              "       [29.2],\n",
              "       [29.3],\n",
              "       [29.4],\n",
              "       [29.5],\n",
              "       [29.6],\n",
              "       [29.7],\n",
              "       [29.8],\n",
              "       [29.9],\n",
              "       [30. ],\n",
              "       [30.1],\n",
              "       [30.2],\n",
              "       [30.3],\n",
              "       [30.4],\n",
              "       [30.5],\n",
              "       [30.6],\n",
              "       [30.7],\n",
              "       [30.8],\n",
              "       [30.9],\n",
              "       [31. ],\n",
              "       [31.1],\n",
              "       [31.2],\n",
              "       [31.3],\n",
              "       [31.4],\n",
              "       [31.5],\n",
              "       [31.6],\n",
              "       [31.7],\n",
              "       [31.8],\n",
              "       [31.9],\n",
              "       [32. ],\n",
              "       [32.1],\n",
              "       [32.2],\n",
              "       [32.3],\n",
              "       [32.4],\n",
              "       [32.5],\n",
              "       [32.6],\n",
              "       [32.7],\n",
              "       [32.8],\n",
              "       [32.9],\n",
              "       [33. ],\n",
              "       [33.1],\n",
              "       [33.2],\n",
              "       [33.3],\n",
              "       [33.4],\n",
              "       [33.5],\n",
              "       [33.6],\n",
              "       [33.7],\n",
              "       [33.8],\n",
              "       [33.9],\n",
              "       [34. ],\n",
              "       [34.1],\n",
              "       [34.2],\n",
              "       [34.3],\n",
              "       [34.4],\n",
              "       [34.5],\n",
              "       [34.6],\n",
              "       [34.7],\n",
              "       [34.8],\n",
              "       [34.9],\n",
              "       [35. ],\n",
              "       [35.1],\n",
              "       [35.2],\n",
              "       [35.3],\n",
              "       [35.4],\n",
              "       [35.5],\n",
              "       [35.6],\n",
              "       [35.7],\n",
              "       [35.8],\n",
              "       [35.9],\n",
              "       [36. ],\n",
              "       [36.1],\n",
              "       [36.2],\n",
              "       [36.3],\n",
              "       [36.4],\n",
              "       [36.5],\n",
              "       [36.6],\n",
              "       [36.7],\n",
              "       [36.8],\n",
              "       [36.9],\n",
              "       [37. ],\n",
              "       [37.1],\n",
              "       [37.2],\n",
              "       [37.3],\n",
              "       [37.4],\n",
              "       [37.5],\n",
              "       [37.6],\n",
              "       [37.7],\n",
              "       [37.8],\n",
              "       [37.9],\n",
              "       [38. ],\n",
              "       [38.1],\n",
              "       [38.2],\n",
              "       [38.3],\n",
              "       [38.4],\n",
              "       [38.5],\n",
              "       [38.6],\n",
              "       [38.7],\n",
              "       [38.8],\n",
              "       [38.9],\n",
              "       [39. ],\n",
              "       [39.1],\n",
              "       [39.2],\n",
              "       [39.3],\n",
              "       [39.4],\n",
              "       [39.5],\n",
              "       [39.6],\n",
              "       [39.7],\n",
              "       [39.8],\n",
              "       [39.9],\n",
              "       [40. ],\n",
              "       [40.1],\n",
              "       [40.2],\n",
              "       [40.3],\n",
              "       [40.4],\n",
              "       [40.5],\n",
              "       [40.6],\n",
              "       [40.7],\n",
              "       [40.8],\n",
              "       [40.9],\n",
              "       [41. ],\n",
              "       [41.1],\n",
              "       [41.2],\n",
              "       [41.3],\n",
              "       [41.4],\n",
              "       [41.5],\n",
              "       [41.6],\n",
              "       [41.7],\n",
              "       [41.8],\n",
              "       [41.9],\n",
              "       [42. ],\n",
              "       [42.1],\n",
              "       [42.2],\n",
              "       [42.3],\n",
              "       [42.4],\n",
              "       [42.5],\n",
              "       [42.6],\n",
              "       [42.7],\n",
              "       [42.8],\n",
              "       [42.9],\n",
              "       [43. ],\n",
              "       [43.1],\n",
              "       [43.2],\n",
              "       [43.3],\n",
              "       [43.4],\n",
              "       [43.5],\n",
              "       [43.6],\n",
              "       [43.7],\n",
              "       [43.8],\n",
              "       [43.9],\n",
              "       [44. ],\n",
              "       [44.1],\n",
              "       [44.2],\n",
              "       [44.3],\n",
              "       [44.4],\n",
              "       [44.5],\n",
              "       [44.6],\n",
              "       [44.7],\n",
              "       [44.8],\n",
              "       [44.9]])"
            ]
          },
          "metadata": {
            "tags": []
          },
          "execution_count": 72
        }
      ]
    },
    {
      "cell_type": "code",
      "metadata": {
        "colab": {
          "base_uri": "https://localhost:8080/",
          "height": 312
        },
        "id": "JOWdu9JKezjG",
        "outputId": "fc633ddc-ca62-47db-b77b-3f314eaa0042"
      },
      "source": [
        "plt.scatter(x_test,y_test, color='red')\r\n",
        "plt.scatter(x_test,y_pre, color='green')\r\n",
        "plt.title(\"Decision Tree Regression\")\r\n",
        "plt.xlabel(\"Tempreture\")\r\n",
        "plt.ylabel(\"revenue\")"
      ],
      "execution_count": 59,
      "outputs": [
        {
          "output_type": "execute_result",
          "data": {
            "text/plain": [
              "Text(0, 0.5, 'revenue')"
            ]
          },
          "metadata": {
            "tags": []
          },
          "execution_count": 59
        },
        {
          "output_type": "display_data",
          "data": {
            "image/png": "[encoded data removed]",
            "text/plain": [
              "<Figure size 432x288 with 1 Axes>"
            ]
          },
          "metadata": {
            "tags": [],
            "needs_background": "light"
          }
        }
      ]
    },
    {
      "cell_type": "code",
      "metadata": {
        "colab": {
          "base_uri": "https://localhost:8080/",
          "height": 282
        },
        "id": "4htQEMW9hEf2",
        "outputId": "3e9cee82-f4f3-4e71-b1da-6ef77c2ebccc"
      },
      "source": [
        "plt.plot(x_grid,dcr.predict(x_grid),color='black')"
      ],
      "execution_count": 74,
      "outputs": [
        {
          "output_type": "execute_result",
          "data": {
            "text/plain": [
              "[<matplotlib.lines.Line2D at 0x7f532f5a2bd0>]"
            ]
          },
          "metadata": {
            "tags": []
          },
          "execution_count": 74
        },
        {
          "output_type": "display_data",
          "data": {
            "image/png": "[encoded data removed]",
            "text/plain": [
              "<Figure size 432x288 with 1 Axes>"
            ]
          },
          "metadata": {
            "tags": [],
            "needs_background": "light"
          }
        }
      ]
    },
    {
      "cell_type": "code",
      "metadata": {
        "id": "OZuMIJZcjDq9"
      },
      "source": [
        ""
      ],
      "execution_count": null,
      "outputs": []
    }
  ]
}